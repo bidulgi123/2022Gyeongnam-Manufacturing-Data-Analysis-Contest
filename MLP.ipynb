{
 "cells": [
  {
   "cell_type": "code",
   "execution_count": null,
   "metadata": {
    "colab": {
     "base_uri": "https://localhost:8080/"
    },
    "id": "jegYU8jZUyPk",
    "outputId": "4c6edf20-79b8-4d41-a1d6-bd675d85a994"
   },
   "outputs": [],
   "source": [
    "import pandas as pd\n",
    "import numpy as np\n",
    "import matplotlib.pyplot as plt\n",
    "import seaborn as sns\n",
    "from scipy.stats import skew\n",
    "from scipy.stats import kurtosis\n",
    "from google.colab import drive\n",
    "from sklearn.preprocessing import LabelEncoder\n",
    "from sklearn.preprocessing import OneHotEncoder\n",
    "drive.mount('/content/drive/')"
   ]
  },
  {
   "cell_type": "code",
   "execution_count": null,
   "metadata": {
    "id": "DpJT26UGUz5Q"
   },
   "outputs": [],
   "source": [
    "df = pd.read_csv('/content/drive/MyDrive/MEASURED_WAVE_TRAIN.csv') #측정데이터(train)\n",
    "df2 = pd.read_csv('/content/drive/MyDrive/REFERENCE_WAVE.csv') #정상 데이터\n",
    "ans = pd.read_csv('/content/drive/MyDrive/MEASURED_WAVE_TEST.csv') #test label 없음"
   ]
  },
  {
   "cell_type": "code",
   "execution_count": null,
   "metadata": {
    "colab": {
     "base_uri": "https://localhost:8080/"
    },
    "id": "Xcn7uIcGUgzS",
    "outputId": "e47a6566-e8b4-4076-8624-14236c6e13c1"
   },
   "outputs": [],
   "source": [
    "df2['QUALITY'] = 0\n",
    "df2.columns=['REFERENCE_ID','MEASURED_WAVE','QUALITY']\n",
    "df = df.replace({'QUALITY' : 'GOOD'}, 0)\n",
    "df1 = df.replace({'QUALITY' : 'BAD'}, 1)\n",
    "\n",
    "df8 = df2['MEASURED_WAVE'].str.split(', ')\n",
    "df5 = df8.apply(lambda x: pd.Series(x))\n",
    "df5.columns=['T'+str(i) for i in range(0,200)]\n",
    "df2.drop(labels=['MEASURED_WAVE'],axis=1,inplace=True)\n",
    "df5.reset_index(drop=True, inplace=True)\n",
    "df2.reset_index(drop=True, inplace=True)\n",
    "rev = pd.concat([df2,df5], axis = 1)\n",
    "\n",
    "df2 = df1['MEASURED_WAVE'].str.split(', ')\n",
    "df2 = df2.apply(lambda x: pd.Series(x))\n",
    "df2.columns=['T'+str(i) for i in range(0,200)]\n",
    "df1.drop(labels=['MEASURED_WAVE'],axis=1,inplace=True)\n",
    "df1.reset_index(drop=True, inplace=True)\n",
    "df2.reset_index(drop=True, inplace=True)\n",
    "df3 = pd.concat([df1, df2], axis = 1)\n",
    "\n",
    "df4 = df3.drop(labels=['REFERENCE_ID','QUALITY'],axis=1)\n",
    "df4.reset_index(drop=True, inplace=True)\n",
    "df4 = df4.astype('float64')\n",
    "df4.columns=['Z'+str(i) for i in range(0,200)]\n",
    "kur = pd.DataFrame(np.array(df4.kurt(axis='columns')).T)\n",
    "kur.columns = ['kurt']\n",
    "ske = pd.DataFrame(np.array(df4.skew(axis='columns')).T)\n",
    "ske.columns = ['skew']\n",
    "mea = pd.DataFrame(np.array(df4.mean(axis='columns')).T)\n",
    "mea.columns = ['mean']\n",
    "var = pd.DataFrame(np.array(df4.var(axis='columns')).T)\n",
    "var.columns = ['var']\n",
    "qu1 = pd.DataFrame(np.array(df4.quantile(q=0.75, axis='columns')).T)\n",
    "qu1.columns = ['q1']\n",
    "qu4 = pd.DataFrame(np.array(df4.quantile(q=0.25, axis='columns')).T)\n",
    "qu4.columns = ['q4']\n",
    "qu2 = pd.DataFrame(np.array(df4.min( axis='columns')).T)\n",
    "qu2.columns=['min']\n",
    "qu3 = pd.DataFrame(np.array(df4.max( axis='columns')).T)\n",
    "qu3.columns=['max']\n",
    "for i in range(0,199,10):\n",
    "  qu3['W'+str(i)] = (df4['Z'+str(i+9)] - df4['Z'+str(i)]) / 10\n",
    "df4 = pd.concat([ske,qu2,qu3], axis = 1)\n",
    "\n",
    "ans1 = ans['MEASURED_WAVE'].str.split(', ')\n",
    "ans1 = ans1.apply(lambda x: pd.Series(x))\n",
    "ans1.columns=['T'+str(i) for i in range(0,200)]\n",
    "ans.reset_index(drop=True, inplace=True)\n",
    "ans1.reset_index(drop=True, inplace=True)\n",
    "ans2 = pd.concat([ans, ans1], axis = 1)\n",
    "ans2.drop(labels=['MEASURED_WAVE','INDEX'],axis=1,inplace=True)\n",
    "\n",
    "ans3 = ans2.drop(labels=['REFERENCE_ID'],axis=1)\n",
    "ans3.reset_index(drop=True, inplace=True)\n",
    "ans3 = ans3.astype('float64')\n",
    "ans3.columns=['Z'+str(i) for i in range(0,200)]\n",
    "kur = pd.DataFrame(np.array(ans3.kurt(axis='columns')).T)\n",
    "kur.columns = ['kurt']\n",
    "ske = pd.DataFrame(np.array(ans3.skew(axis='columns')).T)\n",
    "ske.columns = ['skew']\n",
    "mea = pd.DataFrame(np.array(ans3.mean(axis='columns')).T)\n",
    "mea.columns = ['mean']\n",
    "var = pd.DataFrame(np.array(ans3.var(axis='columns')).T)\n",
    "var.columns = ['var']\n",
    "qu1 = pd.DataFrame(np.array(ans3.quantile(q=0.75, axis='columns')).T)\n",
    "qu1.columns = ['q1']\n",
    "qu4 = pd.DataFrame(np.array(ans3.quantile(q=0.25, axis='columns')).T)\n",
    "qu4.columns = ['q4']\n",
    "qu2 = pd.DataFrame(np.array(ans3.min(axis='columns')).T)\n",
    "qu2.columns=['min']\n",
    "qu3 = pd.DataFrame(np.array(ans3.max(axis='columns')).T)\n",
    "qu3.columns=['max']\n",
    "for i in range(0,199,10):\n",
    "  qu3['W'+str(i)] = (ans3['Z'+str(i+9)] - ans3['Z'+str(i)]) / 10\n",
    "ans3 = pd.concat([ske,qu2,qu3], axis = 1)\n",
    "\n",
    "t = list(df3['REFERENCE_ID'].unique())\n",
    "df9 = pd.DataFrame()\n",
    "for i in range(len(t)):\n",
    "  d1 = df3[df3['REFERENCE_ID']==t[i]]\n",
    "  d3 = rev[rev['REFERENCE_ID']==t[i]]\n",
    "  d1.drop(labels=['REFERENCE_ID','QUALITY'],axis=1,inplace=True)\n",
    "  d3.drop(labels=['REFERENCE_ID','QUALITY'],axis=1,inplace=True)\n",
    "  df8 = pd.DataFrame()\n",
    "  for i in range(len(d1.index)):\n",
    "    df8 = df8.append(d3, ignore_index = True)\n",
    "  df8.index = d1.index\n",
    "  d1 = d1.astype('float64')\n",
    "  df8 = df8.astype('float64')\n",
    "  d2 = d1.sub(df8)\n",
    "  df9 = pd.concat([df9,d2])\n",
    "\n",
    "df10 = df9.sort_index(ascending=True)\n",
    "kur = pd.DataFrame(np.array(df10.sum(axis='columns')).T)\n",
    "kur.columns = ['sum1']\n",
    "ske = pd.DataFrame(np.array(df10.mean(axis='columns')).T)\n",
    "ske.columns = ['mean1']\n",
    "v = pd.DataFrame(np.array(df10.std(axis='columns')).T)\n",
    "v.columns = ['var1']\n",
    "#df10 = df10.abs()\n",
    "s = pd.DataFrame(np.array(df10.quantile(q=0.25, axis='columns')).T)\n",
    "s.columns = ['q1']\n",
    "t = pd.DataFrame(np.array(df10.quantile(q=0.75, axis='columns')).T)\n",
    "t.columns = ['q4']\n",
    "hello = df3[['REFERENCE_ID', 'QUALITY']]\n",
    "\n",
    "x_data = pd.concat([hello, df10, df4, kur, ske, v, t, s], axis=1)\n",
    "\n",
    "t = list(ans2['REFERENCE_ID'].unique())\n",
    "df9 = pd.DataFrame()\n",
    "for i in range(len(t)):\n",
    "  d1 = ans2[ans2['REFERENCE_ID']==t[i]]\n",
    "  d3 = rev[rev['REFERENCE_ID']==t[i]]\n",
    "  d1.drop(labels=['REFERENCE_ID'],axis=1,inplace=True)\n",
    "  d3.drop(labels=['REFERENCE_ID','QUALITY'],axis=1,inplace=True)\n",
    "  df8 = pd.DataFrame()\n",
    "  for i in range(len(d1.index)):\n",
    "    df8 = df8.append(d3, ignore_index = True)\n",
    "  df8.index = d1.index\n",
    "  d1 = d1.astype('float64')\n",
    "  df8 = df8.astype('float64')\n",
    "  d2 = d1.sub(df8)\n",
    "  df9 = pd.concat([df9,d2])\n",
    "\n",
    "df9 = df9.sort_index(ascending=True)\n",
    "\n",
    "v = pd.DataFrame(np.array(df9.std(axis='columns')).T)\n",
    "v.columns = ['var1']\n",
    "s = pd.DataFrame(np.array(df9.quantile(q=0.25, axis='columns')).T)\n",
    "s.columns = ['q1']\n",
    "t = pd.DataFrame(np.array(df9.quantile(q=0.75, axis='columns')).T)\n",
    "t.columns = ['q4']\n",
    "#df9 = df9.abs()\n",
    "kur = pd.DataFrame(np.array(df9.sum(axis='columns')).T)\n",
    "kur.columns = ['sum1']\n",
    "ske = pd.DataFrame(np.array(df9.mean(axis='columns')).T)\n",
    "ske.columns = ['mean1']\n",
    "df9 = pd.concat([df9, ans3, kur, ske, v, t, s], axis=1)\n",
    "\n",
    "df9.reset_index(drop=True, inplace=True)\n",
    "x_data.reset_index(drop=True, inplace=True)\n",
    "df9['sub'] = df9['max'] - df9['min']\n",
    "x_data['sub'] = x_data['max'] - x_data['min']\n",
    "x_data.drop(labels=['min'], axis=1, inplace=True)\n",
    "df9.drop(labels=['min'], axis=1, inplace=True)\n",
    "\n",
    "x_data.drop(labels=['REFERENCE_ID'], axis=1, inplace=True)\n",
    "\n",
    "y_train = x_data.iloc[:, 0:1]\n",
    "X_train = x_data.drop(['QUALITY'], axis=1)"
   ]
  },
  {
   "cell_type": "code",
   "execution_count": null,
   "metadata": {
    "id": "NAzuKkAKNNmN"
   },
   "outputs": [],
   "source": [
    "from sklearn.manifold import TSNE\n",
    "import plotly.express as px\n",
    "from plotly.offline import init_notebook_mode, iplot\n",
    "import plotly.graph_objects as go\n",
    "import warnings\n",
    "warnings.filterwarnings('ignore')"
   ]
  },
  {
   "cell_type": "code",
   "execution_count": null,
   "metadata": {
    "colab": {
     "base_uri": "https://localhost:8080/",
     "height": 54
    },
    "id": "0zOg6Z89NPA2",
    "outputId": "a41796bb-2ade-49c5-a3c1-6174c07d2539"
   },
   "outputs": [],
   "source": [
    "X = X_train\n",
    "y = y_train\n",
    "tsne = TSNE(random_state = 42, n_components=2, perplexity=40, n_iter=1500, learning_rate=300).fit_transform(X)\n",
    "y_label = y.astype(str)\n",
    "plt.figure(figsize=(15, 10))"
   ]
  },
  {
   "cell_type": "code",
   "execution_count": null,
   "metadata": {
    "id": "KFNunmm5PeD1"
   },
   "outputs": [],
   "source": [
    "y_train = y_train.astype('int')"
   ]
  },
  {
   "cell_type": "code",
   "execution_count": null,
   "metadata": {
    "colab": {
     "base_uri": "https://localhost:8080/",
     "height": 542
    },
    "id": "eNcSbstgPSAs",
    "outputId": "2ed30bc2-0f67-4ed9-a246-3ca9e50624ea"
   },
   "outputs": [],
   "source": [
    "q = pd.DataFrame(tsne)\n",
    "df1 = pd.concat([q, y_train], axis = 1)\n",
    "from sklearn.manifold import TSNE\n",
    "import plotly.express as px\n",
    "fig = px.scatter(\n",
    "    df1, x=0, y=1,\n",
    "    color = 'QUALITY'\n",
    ")\n",
    "fig.show()"
   ]
  },
  {
   "cell_type": "code",
   "execution_count": null,
   "metadata": {
    "id": "c6M0BnO8O4II"
   },
   "outputs": [],
   "source": [
    "from sklearn.manifold import TSNE\n",
    "fig = px.scatter(\n",
    "    df1, x=0, y=1,\n",
    "    color = 'QUALITY'\n",
    ")\n",
    "fig.show()"
   ]
  },
  {
   "cell_type": "code",
   "execution_count": null,
   "metadata": {
    "id": "Dta9ZfYOKlP0"
   },
   "outputs": [],
   "source": [
    "from sklearn.preprocessing import RobustScaler\n",
    "from imblearn.under_sampling import TomekLinks\n",
    "from imblearn.over_sampling import *\n",
    "from imblearn.combine import *\n",
    "\n",
    "svm = SMOTETomek(random_state=1, n_jobs=-1)\n",
    "X_train, y_train = svm.fit_resample(X_train,y_train)\n"
   ]
  },
  {
   "cell_type": "code",
   "execution_count": null,
   "metadata": {
    "colab": {
     "base_uri": "https://localhost:8080/",
     "height": 554
    },
    "id": "3AuCbYrNIhYP",
    "outputId": "0536a061-d562-4953-f107-40c27538fb27"
   },
   "outputs": [],
   "source": [
    "tt = pd.concat([X_train, y_train], axis=1)\n",
    "sns.relplot(x=\"var1\", y=\"sub\", hue=\"QUALITY\", style=\"QUALITY\",\n",
    "            data=tt)\n",
    "plt.gcf().set_size_inches(15, 8)"
   ]
  },
  {
   "cell_type": "code",
   "execution_count": null,
   "metadata": {
    "colab": {
     "base_uri": "https://localhost:8080/",
     "height": 487
    },
    "id": "ebCoZelid2Fh",
    "outputId": "93448b6a-f0af-4728-8940-4127977891b7"
   },
   "outputs": [],
   "source": [
    "pd.set_option('max_columns', 300)\n",
    "X_train"
   ]
  },
  {
   "cell_type": "code",
   "execution_count": null,
   "metadata": {
    "colab": {
     "base_uri": "https://localhost:8080/",
     "height": 423
    },
    "id": "32SbdxG0DcBf",
    "outputId": "013e495b-3f6d-47e1-a2d8-dfaaba7f44ea"
   },
   "outputs": [],
   "source": [
    "y_train"
   ]
  },
  {
   "cell_type": "code",
   "execution_count": null,
   "metadata": {
    "id": "p8z-DSXBU0vY"
   },
   "outputs": [],
   "source": [
    "df2['QUALITY'] = 0\n",
    "df2.columns=['REFERENCE_ID','MEASURED_WAVE','QUALITY']\n",
    "df = df.replace({'QUALITY' : 'GOOD'}, 0)\n",
    "df1 = df.replace({'QUALITY' : 'BAD'}, 1)"
   ]
  },
  {
   "cell_type": "code",
   "execution_count": null,
   "metadata": {
    "id": "9OfpgFqlU1mM"
   },
   "outputs": [],
   "source": [
    "df8 = df2['MEASURED_WAVE'].str.split(', ')\n",
    "df5 = df8.apply(lambda x: pd.Series(x))\n",
    "df5.columns=['T'+str(i) for i in range(0,200)]\n",
    "df2.drop(labels=['MEASURED_WAVE'],axis=1,inplace=True)\n",
    "df5.reset_index(drop=True, inplace=True)\n",
    "df2.reset_index(drop=True, inplace=True)\n",
    "rev = pd.concat([df2,df5], axis = 1)"
   ]
  },
  {
   "cell_type": "code",
   "execution_count": null,
   "metadata": {
    "colab": {
     "base_uri": "https://localhost:8080/",
     "height": 235
    },
    "id": "W5R5CQp7Uyph",
    "outputId": "82b36e61-22e7-40c5-f22e-f748912476fe"
   },
   "outputs": [],
   "source": [
    "rev.head()"
   ]
  },
  {
   "cell_type": "code",
   "execution_count": null,
   "metadata": {
    "id": "BmXovVhTVLM2"
   },
   "outputs": [],
   "source": [
    "df2 = df1['MEASURED_WAVE'].str.split(', ')\n",
    "df2 = df2.apply(lambda x: pd.Series(x))\n",
    "df2.columns=['T'+str(i) for i in range(0,200)]\n",
    "df1.drop(labels=['MEASURED_WAVE'],axis=1,inplace=True)\n",
    "df1.reset_index(drop=True, inplace=True)\n",
    "df2.reset_index(drop=True, inplace=True)\n",
    "df3 = pd.concat([df1, df2], axis = 1)"
   ]
  },
  {
   "cell_type": "code",
   "execution_count": null,
   "metadata": {
    "id": "N0pU2PUYU9Cj"
   },
   "outputs": [],
   "source": [
    "df4 = df3.drop(labels=['REFERENCE_ID','QUALITY'],axis=1)\n",
    "df4.reset_index(drop=True, inplace=True)\n",
    "df4 = df4.astype('float64')\n",
    "df4.columns=['Z'+str(i) for i in range(0,200)]\n",
    "kur = pd.DataFrame(np.array(df4.kurt(axis='columns')).T)\n",
    "kur.columns = ['kurt']\n",
    "ske = pd.DataFrame(np.array(df4.skew(axis='columns')).T)\n",
    "ske.columns = ['skew']\n",
    "mea = pd.DataFrame(np.array(df4.mean(axis='columns')).T)\n",
    "mea.columns = ['mean']\n",
    "var = pd.DataFrame(np.array(df4.var(axis='columns')).T)\n",
    "var.columns = ['var']\n",
    "qu1 = pd.DataFrame(np.array(df4.quantile(q=0.8, axis='columns')).T)\n",
    "qu1.columns = ['q1']\n",
    "qu4 = pd.DataFrame(np.array(df4.quantile(q=0.2, axis='columns')).T)\n",
    "qu4.columns = ['q4']\n",
    "qu2 = pd.DataFrame(np.array(df4.min( axis='columns')).T)\n",
    "qu2.columns=['min']\n",
    "qu3 = pd.DataFrame(np.array(df4.max( axis='columns')).T)\n",
    "qu3.columns=['max']\n",
    "df4 = pd.concat([ske,qu2,qu3], axis = 1)"
   ]
  },
  {
   "cell_type": "code",
   "execution_count": null,
   "metadata": {
    "id": "LcKK-CISU_wQ"
   },
   "outputs": [],
   "source": [
    "ans1 = ans['MEASURED_WAVE'].str.split(', ')\n",
    "ans1 = ans1.apply(lambda x: pd.Series(x))\n",
    "ans1.columns=['T'+str(i) for i in range(0,200)]\n",
    "ans.reset_index(drop=True, inplace=True)\n",
    "ans1.reset_index(drop=True, inplace=True)\n",
    "ans2 = pd.concat([ans, ans1], axis = 1)\n",
    "ans2.drop(labels=['MEASURED_WAVE','INDEX'],axis=1,inplace=True)"
   ]
  },
  {
   "cell_type": "code",
   "execution_count": null,
   "metadata": {
    "id": "uK6uCkvDVDWc"
   },
   "outputs": [],
   "source": [
    "ans3 = ans2.drop(labels=['REFERENCE_ID'],axis=1)\n",
    "ans3.reset_index(drop=True, inplace=True)\n",
    "ans3 = ans3.astype('float64')\n",
    "ans3.columns=['Z'+str(i) for i in range(0,200)]\n",
    "kur = pd.DataFrame(np.array(ans3.kurt(axis='columns')).T)\n",
    "kur.columns = ['kurt']\n",
    "ske = pd.DataFrame(np.array(ans3.skew(axis='columns')).T)\n",
    "ske.columns = ['skew']\n",
    "mea = pd.DataFrame(np.array(ans3.mean(axis='columns')).T)\n",
    "mea.columns = ['mean']\n",
    "var = pd.DataFrame(np.array(ans3.var(axis='columns')).T)\n",
    "var.columns = ['var']\n",
    "qu1 = pd.DataFrame(np.array(ans3.quantile(q=0.8, axis='columns')).T)\n",
    "qu1.columns = ['q1']\n",
    "qu4 = pd.DataFrame(np.array(ans3.quantile(q=0.2, axis='columns')).T)\n",
    "qu4.columns = ['q4']\n",
    "qu2 = pd.DataFrame(np.array(ans3.min(axis='columns')).T)\n",
    "qu2.columns=['min']\n",
    "qu3 = pd.DataFrame(np.array(ans3.max(axis='columns')).T)\n",
    "qu3.columns=['max']\n",
    "ans3 = pd.concat([ske,qu2,qu3], axis = 1)"
   ]
  },
  {
   "cell_type": "code",
   "execution_count": null,
   "metadata": {
    "colab": {
     "base_uri": "https://localhost:8080/"
    },
    "id": "IOAn5XrjWTGh",
    "outputId": "a34f698c-8a66-435e-e1f8-741128959bf2"
   },
   "outputs": [],
   "source": [
    "t = list(df3['REFERENCE_ID'].unique())\n",
    "df9 = pd.DataFrame()\n",
    "for i in range(len(t)):\n",
    "  d1 = df3[df3['REFERENCE_ID']==t[i]]\n",
    "  d3 = rev[rev['REFERENCE_ID']==t[i]]\n",
    "  d1.drop(labels=['REFERENCE_ID','QUALITY'],axis=1,inplace=True)\n",
    "  d3.drop(labels=['REFERENCE_ID','QUALITY'],axis=1,inplace=True)\n",
    "  df8 = pd.DataFrame()\n",
    "  for i in range(len(d1.index)):\n",
    "    df8 = df8.append(d3, ignore_index = True)\n",
    "  df8.index = d1.index\n",
    "  d1 = d1.astype('float64')\n",
    "  df8 = df8.astype('float64')\n",
    "  d2 = d1.sub(df8)\n",
    "  df9 = pd.concat([df9,d2])\n"
   ]
  },
  {
   "cell_type": "code",
   "execution_count": null,
   "metadata": {
    "colab": {
     "base_uri": "https://localhost:8080/",
     "height": 423
    },
    "id": "tO-5dmIcX554",
    "outputId": "4be20705-2826-4637-c257-de10eb6a2e25"
   },
   "outputs": [],
   "source": [
    "df9"
   ]
  },
  {
   "cell_type": "code",
   "execution_count": null,
   "metadata": {
    "id": "TWdclvTNWW4Z"
   },
   "outputs": [],
   "source": [
    "df10 = df9.sort_index(ascending=True)\n",
    "s = pd.DataFrame(np.array(df10.quantile(q=0.25, axis='columns')).T)\n",
    "s.columns = ['q1']\n",
    "t = pd.DataFrame(np.array(df10.quantile(q=0.75, axis='columns')).T)\n",
    "t.columns = ['q4']\n",
    "v = pd.DataFrame(np.array(df10.std(axis='columns')).T)\n",
    "v.columns = ['var1']\n",
    "df11=df10.abs()\n",
    "ske = pd.DataFrame(np.array(df11.mean(axis='columns')).T)\n",
    "ske.columns = ['mean1']\n",
    "kur = pd.DataFrame(np.array(df11.sum(axis='columns')).T)\n",
    "kur.columns = ['sum1']\n",
    "hello = df3[['REFERENCE_ID', 'QUALITY']]\n",
    "\n",
    "x_data = pd.concat([hello, df10, df4,kur,ske, v], axis = 1)"
   ]
  },
  {
   "cell_type": "code",
   "execution_count": null,
   "metadata": {
    "colab": {
     "base_uri": "https://localhost:8080/"
    },
    "id": "nlchGdyOWlXQ",
    "outputId": "58815910-4e49-4c10-d0bc-0f5c71a8d267"
   },
   "outputs": [],
   "source": [
    "t = list(ans2['REFERENCE_ID'].unique())\n",
    "df9 = pd.DataFrame()\n",
    "for i in range(len(t)):\n",
    "  d1 = ans2[ans2['REFERENCE_ID']==t[i]]\n",
    "  d3 = rev[rev['REFERENCE_ID']==t[i]]\n",
    "  d1.drop(labels=['REFERENCE_ID'],axis=1,inplace=True)\n",
    "  d3.drop(labels=['REFERENCE_ID','QUALITY'],axis=1,inplace=True)\n",
    "  df8 = pd.DataFrame()\n",
    "  for i in range(len(d1.index)):\n",
    "    df8 = df8.append(d3, ignore_index = True)\n",
    "  df8.index = d1.index\n",
    "  d1 = d1.astype('float64')\n",
    "  df8 = df8.astype('float64')\n",
    "  d2 = d1.sub(df8)\n",
    "  df9 = pd.concat([df9,d2])"
   ]
  },
  {
   "cell_type": "code",
   "execution_count": null,
   "metadata": {
    "id": "PQan1XmYWnfs"
   },
   "outputs": [],
   "source": [
    "df9 = df9.sort_index(ascending=True)\n",
    "\n",
    "v = pd.DataFrame(np.array(df9.std(axis='columns')).T)\n",
    "v.columns = ['var1']\n",
    "s = pd.DataFrame(np.array(df9.quantile(q=0.25, axis='columns')).T)\n",
    "s.columns = ['q1']\n",
    "t = pd.DataFrame(np.array(df9.quantile(q=0.75, axis='columns')).T)\n",
    "t.columns = ['q4']\n",
    "df10=df9.abs()\n",
    "kur = pd.DataFrame(np.array(df10.sum(axis='columns')).T)\n",
    "kur.columns = ['sum1']\n",
    "ske = pd.DataFrame(np.array(df10.mean(axis='columns')).T)\n",
    "ske.columns = ['mean1']\n",
    "df9 = pd.concat([df9, ans3, kur, ske,v], axis = 1)"
   ]
  },
  {
   "cell_type": "code",
   "execution_count": null,
   "metadata": {
    "id": "Bqzhq_lJWqhn"
   },
   "outputs": [],
   "source": [
    "df9.reset_index(drop=True, inplace=True)\n",
    "x_data.reset_index(drop=True, inplace=True)\n",
    "x_data.drop(labels=['min'],axis=1,inplace=True)\n",
    "df9.drop(labels=['min'],axis=1,inplace=True)"
   ]
  },
  {
   "cell_type": "code",
   "execution_count": null,
   "metadata": {
    "id": "NmWov12QXQqF"
   },
   "outputs": [],
   "source": [
    "x_data.drop(labels=['REFERENCE_ID'],axis=1,inplace=True)"
   ]
  },
  {
   "cell_type": "code",
   "execution_count": null,
   "metadata": {
    "id": "V9ZeiBrEXwaX"
   },
   "outputs": [],
   "source": [
    "y_train = x_data.iloc[:,0:1]\n",
    "X_train = x_data.drop(['QUALITY'],axis=1)"
   ]
  },
  {
   "cell_type": "code",
   "execution_count": null,
   "metadata": {
    "id": "SsO-ZexHYCjS"
   },
   "outputs": [],
   "source": [
    "# 범위를 부여하지 않고 그래프를 그리는 함수\n",
    "import matplotlib.pyplot as plt\n",
    "import matplotlib.font_manager as fm\n",
    "\n",
    "def plot_prac_histo(df, col_no, bins) :\n",
    "  #정상\n",
    "    df_yes=df[(df['QUALITY']==0)]\n",
    "    X_yes =df_yes.iloc[:,col_no].values\n",
    "\n",
    "  # i+1번째 열 이름 선택\n",
    "    col_name=df.columns[col_no]\n",
    "    print(col_name)\n",
    "\n",
    "  #불량\n",
    "    df_no=df[(df['QUALITY']==1)]\n",
    "    X_no = df_no.iloc[:,col_no].values\n",
    "\n",
    "  # import matplotlib.pyplot as plt\n",
    "  # plt.hist(X_yes,alpha=0.4, edgecolor='black')\n",
    "  # plt.title('Goods')\n",
    "  # plt.xlabel(col_name)\n",
    "  # plt.ylabel('Goods count')\n",
    "  # plt.show()\n",
    "\n",
    "  # import matplotlib.pyplot as plt\n",
    "  # plt.hist(X_no,alpha=0.4, edgecolor='black')\n",
    "  # plt.title('Bads')\n",
    "  # plt.xlabel(col_name)\n",
    "  # plt.ylabel('Bads count')\n",
    "  # plt.show()\n",
    "    # 한글 폰트 설정\n",
    "    plt.style.use('seaborn')\n",
    "    plt.hist(X_yes, color = 'green', alpha = 0.3, bins = bins, label = 'good', density = True,)\n",
    "    plt.hist(X_no, color = 'red', alpha = 0.4, bins = bins, label = 'bad', density = True)\n",
    "    plt.gca().spines['right'].set_visible(False) #오른쪽 테두리 제거\n",
    "    plt.gca().spines['top'].set_visible(False) #위 테두리 제거\n",
    "    plt.xticks(fontsize=13)\n",
    "    plt.yticks(fontsize=13)\n",
    "    plt.title(col_name, size = 17)\n",
    "    plt.legend(fontsize = 16)\n",
    "    plt.show()"
   ]
  },
  {
   "cell_type": "code",
   "execution_count": null,
   "metadata": {
    "colab": {
     "base_uri": "https://localhost:8080/",
     "height": 427
    },
    "id": "PeDy_UQuZ_7m",
    "outputId": "7228fd8e-28ee-4958-8dd6-7b73205e0a1e"
   },
   "outputs": [],
   "source": [
    "x_data.tail(10)"
   ]
  },
  {
   "cell_type": "code",
   "execution_count": null,
   "metadata": {
    "colab": {
     "base_uri": "https://localhost:8080/",
     "height": 1000
    },
    "id": "nP3WcXS5Z3_6",
    "outputId": "af05a87e-25a8-4fbf-dc2e-ca9d0a8a4b40"
   },
   "outputs": [],
   "source": [
    "for i in range(210,228):\n",
    "   plot_prac_histo(x_data, i, 50)"
   ]
  },
  {
   "cell_type": "code",
   "execution_count": null,
   "metadata": {
    "id": "bWH1WGPrZ_ok"
   },
   "outputs": [],
   "source": [
    "from sklearn.preprocessing import RobustScaler\n",
    "robust= RobustScaler().fit(X_train)\n",
    "X_train = robust.transform(X_train)\n",
    "X_test = robust.transform(df9)"
   ]
  },
  {
   "cell_type": "code",
   "execution_count": null,
   "metadata": {
    "id": "TZ3n9oczay6P"
   },
   "outputs": [],
   "source": [
    "from sklearn.preprocessing import RobustScaler\n",
    "from imblearn.under_sampling import TomekLinks\n",
    "from imblearn.over_sampling import *\n",
    "from imblearn.combine import *\n",
    "from imblearn.over_sampling import SVMSMOTE\n",
    "from imblearn.over_sampling._smote.filter import BorderlineSMOTE\n",
    "\n",
    "svm = SMOTETomek(random_state=1, n_jobs=-1)\n",
    "X_train, y_train = svm.fit_resample(X_train,y_train)\n"
   ]
  },
  {
   "cell_type": "code",
   "execution_count": null,
   "metadata": {
    "colab": {
     "base_uri": "https://localhost:8080/"
    },
    "id": "JdcgEJepdBHX",
    "outputId": "4bb5bfcf-a4ee-4ebf-b08f-d99d1b675297"
   },
   "outputs": [],
   "source": [
    "# import keras\n",
    "from keras.optimizers import Adam\n",
    "#from keras.optimizers import adam\n",
    "from keras.layers import Activation, Dropout, Convolution2D, GlobalAveragePooling2D, Dense\n",
    "from keras.applications.resnet import ResNet50\n",
    "from keras.models import Sequential\n",
    "from keras.models import load_model\n",
    "from keras.callbacks import EarlyStopping\n",
    "callbacks = [EarlyStopping(monitor='val_loss',patience=5)]\n",
    "                                          \n",
    "model = Sequential()\n",
    "\n",
    "model.add(Dense(210, activation='relu',input_dim=X_train.shape[1]))\n",
    "model.add(Dense(777,activation='relu'))\n",
    "model.add(Dense(666,activation='relu'))\n",
    "model.add(Dense(555,activation='relu'))\n",
    "\n",
    "# model.add(Dense(50, activation='relu', input_dim=X_train.shape[1]))\n",
    "# model.add(Dense(16, activation='relu', input_dim=X_train.shape[1]))\n",
    "model.add(Dense(1, activation='sigmoid'))\n",
    "\n",
    "model.compile(\n",
    "    optimizer='adam',\n",
    "    loss='binary_crossentropy',\n",
    "    metrics=['accuracy']\n",
    ")\n",
    "\n",
    "model.summary()\n",
    "model.fit(X_train, y_train , epochs=50)\n",
    "model.save(\"dfff.h5\")\n",
    "\n",
    "mod = load_model('dfff.h5')\n",
    "a = mod(X_test)\n",
    "\n",
    "\n"
   ]
  },
  {
   "cell_type": "code",
   "execution_count": null,
   "metadata": {
    "colab": {
     "base_uri": "https://localhost:8080/"
    },
    "id": "T0Q20x8pbPNS",
    "outputId": "bc1d9168-e89f-4954-8f18-452c9da2930e"
   },
   "outputs": [],
   "source": [
    "from collections import Counter\n",
    "print((a))\n",
    "pred_th = [ 1 if x > 0.3 else 0 for x in a[:,0]]\n",
    "print(Counter(pred_th))\n",
    "#Counter({0: 2865, 1: 2489})\n",
    "\n",
    "an = pd.read_csv('/content/drive/MyDrive/ANSWER_FORM.csv')\n",
    "df = pd.DataFrame(np.array([pred_th]).T)\n",
    "df.columns =['QUALITY']\n",
    "df = df.replace({'QUALITY' : 1}, 'BAD')\n",
    "df = df.replace({'QUALITY' : 0}, 'GOOD')\n",
    "an.drop(labels=['QUALITY'],axis=1,inplace=True)\n",
    "df1 = pd.concat([an, df], axis = 1)\n",
    "df1.to_csv('test.csv',index = False)"
   ]
  },
  {
   "cell_type": "code",
   "execution_count": null,
   "metadata": {
    "colab": {
     "base_uri": "https://localhost:8080/"
    },
    "id": "2DFBTQ1ibyKM",
    "outputId": "18794b28-aff1-4d5e-af20-b2cd174a69c1"
   },
   "outputs": [],
   "source": []
  },
  {
   "cell_type": "code",
   "execution_count": null,
   "metadata": {
    "id": "kOgUdZxym_ez"
   },
   "outputs": [],
   "source": []
  }
 ],
 "metadata": {
  "colab": {
   "provenance": []
  },
  "gpuClass": "standard",
  "kernelspec": {
   "display_name": "Python 3 (ipykernel)",
   "language": "python",
   "name": "python3"
  },
  "language_info": {
   "codemirror_mode": {
    "name": "ipython",
    "version": 3
   },
   "file_extension": ".py",
   "mimetype": "text/x-python",
   "name": "python",
   "nbconvert_exporter": "python",
   "pygments_lexer": "ipython3",
   "version": "3.11.4"
  }
 },
 "nbformat": 4,
 "nbformat_minor": 1
}
